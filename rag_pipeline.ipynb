{
 "cells": [
  {
   "cell_type": "code",
   "execution_count": 1,
   "metadata": {
    "colab": {
     "base_uri": "https://localhost:8080/"
    },
    "id": "4eygJbkj6qH-",
    "outputId": "fa6f0e61-fe6c-44e3-d8ef-35fe3566debe",
    "scrolled": true
   },
   "outputs": [
    {
     "name": "stdout",
     "output_type": "stream",
     "text": [
      "Requirement already satisfied: llama-index in /usr/local/Cellar/jupyterlab/4.2.5_1/libexec/lib/python3.12/site-packages (0.12.11)\n",
      "Requirement already satisfied: langchain in /usr/local/Cellar/jupyterlab/4.2.5_1/libexec/lib/python3.12/site-packages (0.3.14)\n",
      "Requirement already satisfied: pypdf in /usr/local/Cellar/jupyterlab/4.2.5_1/libexec/lib/python3.12/site-packages (5.1.0)\n",
      "Requirement already satisfied: langchain-community in /usr/local/Cellar/jupyterlab/4.2.5_1/libexec/lib/python3.12/site-packages (0.3.14)\n",
      "Requirement already satisfied: llama-index-llms-huggingface-api in /usr/local/Cellar/jupyterlab/4.2.5_1/libexec/lib/python3.12/site-packages (0.3.1)\n",
      "Requirement already satisfied: llama-index-embeddings-langchain in /usr/local/Cellar/jupyterlab/4.2.5_1/libexec/lib/python3.12/site-packages (0.3.0)\n",
      "Requirement already satisfied: llama-index-agent-openai<0.5.0,>=0.4.0 in /usr/local/Cellar/jupyterlab/4.2.5_1/libexec/lib/python3.12/site-packages (from llama-index) (0.4.2)\n",
      "Requirement already satisfied: llama-index-cli<0.5.0,>=0.4.0 in /usr/local/Cellar/jupyterlab/4.2.5_1/libexec/lib/python3.12/site-packages (from llama-index) (0.4.0)\n",
      "Requirement already satisfied: llama-index-core<0.13.0,>=0.12.11 in /usr/local/Cellar/jupyterlab/4.2.5_1/libexec/lib/python3.12/site-packages (from llama-index) (0.12.11)\n",
      "Requirement already satisfied: llama-index-embeddings-openai<0.4.0,>=0.3.0 in /usr/local/Cellar/jupyterlab/4.2.5_1/libexec/lib/python3.12/site-packages (from llama-index) (0.3.1)\n",
      "Requirement already satisfied: llama-index-indices-managed-llama-cloud>=0.4.0 in /usr/local/Cellar/jupyterlab/4.2.5_1/libexec/lib/python3.12/site-packages (from llama-index) (0.6.3)\n",
      "Requirement already satisfied: llama-index-llms-openai<0.4.0,>=0.3.0 in /usr/local/Cellar/jupyterlab/4.2.5_1/libexec/lib/python3.12/site-packages (from llama-index) (0.3.13)\n",
      "Requirement already satisfied: llama-index-multi-modal-llms-openai<0.5.0,>=0.4.0 in /usr/local/Cellar/jupyterlab/4.2.5_1/libexec/lib/python3.12/site-packages (from llama-index) (0.4.2)\n",
      "Requirement already satisfied: llama-index-program-openai<0.4.0,>=0.3.0 in /usr/local/Cellar/jupyterlab/4.2.5_1/libexec/lib/python3.12/site-packages (from llama-index) (0.3.1)\n",
      "Requirement already satisfied: llama-index-question-gen-openai<0.4.0,>=0.3.0 in /usr/local/Cellar/jupyterlab/4.2.5_1/libexec/lib/python3.12/site-packages (from llama-index) (0.3.0)\n",
      "Requirement already satisfied: llama-index-readers-file<0.5.0,>=0.4.0 in /usr/local/Cellar/jupyterlab/4.2.5_1/libexec/lib/python3.12/site-packages (from llama-index) (0.4.3)\n",
      "Requirement already satisfied: llama-index-readers-llama-parse>=0.4.0 in /usr/local/Cellar/jupyterlab/4.2.5_1/libexec/lib/python3.12/site-packages (from llama-index) (0.4.0)\n",
      "Requirement already satisfied: nltk>3.8.1 in /usr/local/Cellar/jupyterlab/4.2.5_1/libexec/lib/python3.12/site-packages (from llama-index) (3.9.1)\n",
      "Requirement already satisfied: PyYAML>=5.3 in /usr/local/Cellar/jupyterlab/4.2.5_1/libexec/lib/python3.12/site-packages (from langchain) (6.0.2)\n",
      "Requirement already satisfied: SQLAlchemy<3,>=1.4 in /usr/local/Cellar/jupyterlab/4.2.5_1/libexec/lib/python3.12/site-packages (from langchain) (2.0.37)\n",
      "Requirement already satisfied: aiohttp<4.0.0,>=3.8.3 in /usr/local/Cellar/jupyterlab/4.2.5_1/libexec/lib/python3.12/site-packages (from langchain) (3.10.10)\n",
      "Requirement already satisfied: langchain-core<0.4.0,>=0.3.29 in /usr/local/Cellar/jupyterlab/4.2.5_1/libexec/lib/python3.12/site-packages (from langchain) (0.3.30)\n",
      "Requirement already satisfied: langchain-text-splitters<0.4.0,>=0.3.3 in /usr/local/Cellar/jupyterlab/4.2.5_1/libexec/lib/python3.12/site-packages (from langchain) (0.3.5)\n",
      "Requirement already satisfied: langsmith<0.3,>=0.1.17 in /usr/local/Cellar/jupyterlab/4.2.5_1/libexec/lib/python3.12/site-packages (from langchain) (0.2.11)\n",
      "Requirement already satisfied: numpy<3,>=1.26.2 in /usr/local/Cellar/jupyterlab/4.2.5_1/libexec/lib/python3.12/site-packages (from langchain) (1.26.4)\n",
      "Requirement already satisfied: pydantic<3.0.0,>=2.7.4 in /usr/local/Cellar/jupyterlab/4.2.5_1/libexec/lib/python3.12/site-packages (from langchain) (2.10.5)\n",
      "Requirement already satisfied: requests<3,>=2 in /usr/local/Cellar/jupyterlab/4.2.5_1/libexec/lib/python3.12/site-packages (from langchain) (2.32.3)\n",
      "Requirement already satisfied: tenacity!=8.4.0,<10,>=8.1.0 in /usr/local/Cellar/jupyterlab/4.2.5_1/libexec/lib/python3.12/site-packages (from langchain) (9.0.0)\n",
      "Requirement already satisfied: dataclasses-json<0.7,>=0.5.7 in /usr/local/Cellar/jupyterlab/4.2.5_1/libexec/lib/python3.12/site-packages (from langchain-community) (0.6.7)\n",
      "Requirement already satisfied: httpx-sse<0.5.0,>=0.4.0 in /usr/local/Cellar/jupyterlab/4.2.5_1/libexec/lib/python3.12/site-packages (from langchain-community) (0.4.0)\n",
      "Requirement already satisfied: pydantic-settings<3.0.0,>=2.4.0 in /usr/local/Cellar/jupyterlab/4.2.5_1/libexec/lib/python3.12/site-packages (from langchain-community) (2.7.1)\n",
      "Requirement already satisfied: huggingface-hub>=0.23.0 in /usr/local/Cellar/jupyterlab/4.2.5_1/libexec/lib/python3.12/site-packages (from llama-index-llms-huggingface-api) (0.25.1)\n",
      "Requirement already satisfied: aiohappyeyeballs>=2.3.0 in /usr/local/Cellar/jupyterlab/4.2.5_1/libexec/lib/python3.12/site-packages (from aiohttp<4.0.0,>=3.8.3->langchain) (2.4.3)\n",
      "Requirement already satisfied: aiosignal>=1.1.2 in /usr/local/Cellar/jupyterlab/4.2.5_1/libexec/lib/python3.12/site-packages (from aiohttp<4.0.0,>=3.8.3->langchain) (1.3.1)\n",
      "Requirement already satisfied: attrs>=17.3.0 in /usr/local/Cellar/jupyterlab/4.2.5_1/libexec/lib/python3.12/site-packages (from aiohttp<4.0.0,>=3.8.3->langchain) (24.2.0)\n",
      "Requirement already satisfied: frozenlist>=1.1.1 in /usr/local/Cellar/jupyterlab/4.2.5_1/libexec/lib/python3.12/site-packages (from aiohttp<4.0.0,>=3.8.3->langchain) (1.5.0)\n",
      "Requirement already satisfied: multidict<7.0,>=4.5 in /usr/local/Cellar/jupyterlab/4.2.5_1/libexec/lib/python3.12/site-packages (from aiohttp<4.0.0,>=3.8.3->langchain) (6.1.0)\n",
      "Requirement already satisfied: yarl<2.0,>=1.12.0 in /usr/local/Cellar/jupyterlab/4.2.5_1/libexec/lib/python3.12/site-packages (from aiohttp<4.0.0,>=3.8.3->langchain) (1.17.1)\n",
      "Requirement already satisfied: marshmallow<4.0.0,>=3.18.0 in /usr/local/Cellar/jupyterlab/4.2.5_1/libexec/lib/python3.12/site-packages (from dataclasses-json<0.7,>=0.5.7->langchain-community) (3.25.1)\n",
      "Requirement already satisfied: typing-inspect<1,>=0.4.0 in /usr/local/Cellar/jupyterlab/4.2.5_1/libexec/lib/python3.12/site-packages (from dataclasses-json<0.7,>=0.5.7->langchain-community) (0.9.0)\n",
      "Requirement already satisfied: filelock in /usr/local/Cellar/jupyterlab/4.2.5_1/libexec/lib/python3.12/site-packages (from huggingface-hub>=0.23.0->llama-index-llms-huggingface-api) (3.16.1)\n",
      "Requirement already satisfied: fsspec>=2023.5.0 in /usr/local/Cellar/jupyterlab/4.2.5_1/libexec/lib/python3.12/site-packages (from huggingface-hub>=0.23.0->llama-index-llms-huggingface-api) (2024.9.0)\n",
      "Requirement already satisfied: packaging>=20.9 in /usr/local/Cellar/jupyterlab/4.2.5_1/libexec/lib/python3.12/site-packages (from huggingface-hub>=0.23.0->llama-index-llms-huggingface-api) (24.1)\n",
      "Requirement already satisfied: tqdm>=4.42.1 in /usr/local/Cellar/jupyterlab/4.2.5_1/libexec/lib/python3.12/site-packages (from huggingface-hub>=0.23.0->llama-index-llms-huggingface-api) (4.66.5)\n",
      "Requirement already satisfied: typing-extensions>=3.7.4.3 in /usr/local/Cellar/jupyterlab/4.2.5_1/libexec/lib/python3.12/site-packages (from huggingface-hub>=0.23.0->llama-index-llms-huggingface-api) (4.12.2)\n",
      "Requirement already satisfied: jsonpatch<2.0,>=1.33 in /usr/local/Cellar/jupyterlab/4.2.5_1/libexec/lib/python3.12/site-packages (from langchain-core<0.4.0,>=0.3.29->langchain) (1.33)\n",
      "Requirement already satisfied: httpx<1,>=0.23.0 in /usr/local/Cellar/jupyterlab/4.2.5_1/libexec/lib/python3.12/site-packages (from langsmith<0.3,>=0.1.17->langchain) (0.27.2)\n",
      "Requirement already satisfied: orjson<4.0.0,>=3.9.14 in /usr/local/Cellar/jupyterlab/4.2.5_1/libexec/lib/python3.12/site-packages (from langsmith<0.3,>=0.1.17->langchain) (3.10.14)\n",
      "Requirement already satisfied: requests-toolbelt<2.0.0,>=1.0.0 in /usr/local/Cellar/jupyterlab/4.2.5_1/libexec/lib/python3.12/site-packages (from langsmith<0.3,>=0.1.17->langchain) (1.0.0)\n",
      "Requirement already satisfied: openai>=1.14.0 in /usr/local/Cellar/jupyterlab/4.2.5_1/libexec/lib/python3.12/site-packages (from llama-index-agent-openai<0.5.0,>=0.4.0->llama-index) (1.59.7)\n",
      "Requirement already satisfied: deprecated>=1.2.9.3 in /usr/local/Cellar/jupyterlab/4.2.5_1/libexec/lib/python3.12/site-packages (from llama-index-core<0.13.0,>=0.12.11->llama-index) (1.2.15)\n",
      "Requirement already satisfied: dirtyjson<2.0.0,>=1.0.8 in /usr/local/Cellar/jupyterlab/4.2.5_1/libexec/lib/python3.12/site-packages (from llama-index-core<0.13.0,>=0.12.11->llama-index) (1.0.8)\n",
      "Requirement already satisfied: filetype<2.0.0,>=1.2.0 in /usr/local/Cellar/jupyterlab/4.2.5_1/libexec/lib/python3.12/site-packages (from llama-index-core<0.13.0,>=0.12.11->llama-index) (1.2.0)\n",
      "Requirement already satisfied: nest-asyncio<2.0.0,>=1.5.8 in /usr/local/Cellar/jupyterlab/4.2.5_1/libexec/lib/python3.12/site-packages (from llama-index-core<0.13.0,>=0.12.11->llama-index) (1.6.0)\n",
      "Requirement already satisfied: networkx>=3.0 in /usr/local/Cellar/jupyterlab/4.2.5_1/libexec/lib/python3.12/site-packages (from llama-index-core<0.13.0,>=0.12.11->llama-index) (3.3)\n",
      "Requirement already satisfied: pillow>=9.0.0 in /usr/local/lib/python3.12/site-packages (from llama-index-core<0.13.0,>=0.12.11->llama-index) (11.0.0)\n",
      "Requirement already satisfied: tiktoken>=0.3.3 in /usr/local/Cellar/jupyterlab/4.2.5_1/libexec/lib/python3.12/site-packages (from llama-index-core<0.13.0,>=0.12.11->llama-index) (0.8.0)\n",
      "Requirement already satisfied: wrapt in /usr/local/Cellar/jupyterlab/4.2.5_1/libexec/lib/python3.12/site-packages (from llama-index-core<0.13.0,>=0.12.11->llama-index) (1.17.2)\n",
      "Requirement already satisfied: llama-cloud>=0.1.5 in /usr/local/Cellar/jupyterlab/4.2.5_1/libexec/lib/python3.12/site-packages (from llama-index-indices-managed-llama-cloud>=0.4.0->llama-index) (0.1.9)\n",
      "Requirement already satisfied: beautifulsoup4<5.0.0,>=4.12.3 in /usr/local/Cellar/jupyterlab/4.2.5_1/libexec/lib/python3.12/site-packages (from llama-index-readers-file<0.5.0,>=0.4.0->llama-index) (4.12.3)\n",
      "Requirement already satisfied: pandas in /usr/local/Cellar/jupyterlab/4.2.5_1/libexec/lib/python3.12/site-packages (from llama-index-readers-file<0.5.0,>=0.4.0->llama-index) (2.2.3)\n",
      "Requirement already satisfied: striprtf<0.0.27,>=0.0.26 in /usr/local/Cellar/jupyterlab/4.2.5_1/libexec/lib/python3.12/site-packages (from llama-index-readers-file<0.5.0,>=0.4.0->llama-index) (0.0.26)\n",
      "Requirement already satisfied: llama-parse>=0.5.0 in /usr/local/Cellar/jupyterlab/4.2.5_1/libexec/lib/python3.12/site-packages (from llama-index-readers-llama-parse>=0.4.0->llama-index) (0.5.19)\n",
      "Requirement already satisfied: click in /usr/local/lib/python3.12/site-packages (from nltk>3.8.1->llama-index) (8.1.7)\n",
      "Requirement already satisfied: joblib in /usr/local/Cellar/jupyterlab/4.2.5_1/libexec/lib/python3.12/site-packages (from nltk>3.8.1->llama-index) (1.4.2)\n",
      "Requirement already satisfied: regex>=2021.8.3 in /usr/local/Cellar/jupyterlab/4.2.5_1/libexec/lib/python3.12/site-packages (from nltk>3.8.1->llama-index) (2024.9.11)\n",
      "Requirement already satisfied: annotated-types>=0.6.0 in /usr/local/Cellar/jupyterlab/4.2.5_1/libexec/lib/python3.12/site-packages (from pydantic<3.0.0,>=2.7.4->langchain) (0.7.0)\n",
      "Requirement already satisfied: pydantic-core==2.27.2 in /usr/local/Cellar/jupyterlab/4.2.5_1/libexec/lib/python3.12/site-packages (from pydantic<3.0.0,>=2.7.4->langchain) (2.27.2)\n",
      "Requirement already satisfied: python-dotenv>=0.21.0 in /usr/local/Cellar/jupyterlab/4.2.5_1/libexec/lib/python3.12/site-packages (from pydantic-settings<3.0.0,>=2.4.0->langchain-community) (1.0.1)\n",
      "Requirement already satisfied: charset-normalizer<4,>=2 in /usr/local/Cellar/jupyterlab/4.2.5_1/libexec/lib/python3.12/site-packages (from requests<3,>=2->langchain) (3.3.2)\n",
      "Requirement already satisfied: idna<4,>=2.5 in /usr/local/Cellar/jupyterlab/4.2.5_1/libexec/lib/python3.12/site-packages (from requests<3,>=2->langchain) (3.8)\n",
      "Requirement already satisfied: urllib3<3,>=1.21.1 in /usr/local/Cellar/jupyterlab/4.2.5_1/libexec/lib/python3.12/site-packages (from requests<3,>=2->langchain) (2.2.2)\n",
      "Requirement already satisfied: certifi>=2017.4.17 in /usr/local/opt/certifi/lib/python3.12/site-packages (from requests<3,>=2->langchain) (2024.8.30)\n",
      "Requirement already satisfied: greenlet!=0.4.17 in /usr/local/Cellar/jupyterlab/4.2.5_1/libexec/lib/python3.12/site-packages (from SQLAlchemy<3,>=1.4->langchain) (3.1.1)\n",
      "Requirement already satisfied: soupsieve>1.2 in /usr/local/Cellar/jupyterlab/4.2.5_1/libexec/lib/python3.12/site-packages (from beautifulsoup4<5.0.0,>=4.12.3->llama-index-readers-file<0.5.0,>=0.4.0->llama-index) (2.6)\n",
      "Requirement already satisfied: anyio in /usr/local/Cellar/jupyterlab/4.2.5_1/libexec/lib/python3.12/site-packages (from httpx<1,>=0.23.0->langsmith<0.3,>=0.1.17->langchain) (4.4.0)\n",
      "Requirement already satisfied: httpcore==1.* in /usr/local/Cellar/jupyterlab/4.2.5_1/libexec/lib/python3.12/site-packages (from httpx<1,>=0.23.0->langsmith<0.3,>=0.1.17->langchain) (1.0.5)\n",
      "Requirement already satisfied: sniffio in /usr/local/Cellar/jupyterlab/4.2.5_1/libexec/lib/python3.12/site-packages (from httpx<1,>=0.23.0->langsmith<0.3,>=0.1.17->langchain) (1.3.1)\n",
      "Requirement already satisfied: h11<0.15,>=0.13 in /usr/local/Cellar/jupyterlab/4.2.5_1/libexec/lib/python3.12/site-packages (from httpcore==1.*->httpx<1,>=0.23.0->langsmith<0.3,>=0.1.17->langchain) (0.14.0)\n",
      "Requirement already satisfied: jsonpointer>=1.9 in /usr/local/Cellar/jupyterlab/4.2.5_1/libexec/lib/python3.12/site-packages (from jsonpatch<2.0,>=1.33->langchain-core<0.4.0,>=0.3.29->langchain) (3.0.0)\n",
      "Requirement already satisfied: distro<2,>=1.7.0 in /usr/local/Cellar/jupyterlab/4.2.5_1/libexec/lib/python3.12/site-packages (from openai>=1.14.0->llama-index-agent-openai<0.5.0,>=0.4.0->llama-index) (1.9.0)\n",
      "Requirement already satisfied: jiter<1,>=0.4.0 in /usr/local/Cellar/jupyterlab/4.2.5_1/libexec/lib/python3.12/site-packages (from openai>=1.14.0->llama-index-agent-openai<0.5.0,>=0.4.0->llama-index) (0.8.2)\n",
      "Requirement already satisfied: mypy-extensions>=0.3.0 in /usr/local/Cellar/jupyterlab/4.2.5_1/libexec/lib/python3.12/site-packages (from typing-inspect<1,>=0.4.0->dataclasses-json<0.7,>=0.5.7->langchain-community) (1.0.0)\n",
      "Requirement already satisfied: propcache>=0.2.0 in /usr/local/Cellar/jupyterlab/4.2.5_1/libexec/lib/python3.12/site-packages (from yarl<2.0,>=1.12.0->aiohttp<4.0.0,>=3.8.3->langchain) (0.2.0)\n",
      "Requirement already satisfied: python-dateutil>=2.8.2 in /usr/local/Cellar/jupyterlab/4.2.5_1/libexec/lib/python3.12/site-packages (from pandas->llama-index-readers-file<0.5.0,>=0.4.0->llama-index) (2.9.0.post0)\n",
      "Requirement already satisfied: pytz>=2020.1 in /usr/local/Cellar/jupyterlab/4.2.5_1/libexec/lib/python3.12/site-packages (from pandas->llama-index-readers-file<0.5.0,>=0.4.0->llama-index) (2024.2)\n",
      "Requirement already satisfied: tzdata>=2022.7 in /usr/local/Cellar/jupyterlab/4.2.5_1/libexec/lib/python3.12/site-packages (from pandas->llama-index-readers-file<0.5.0,>=0.4.0->llama-index) (2024.2)\n",
      "Requirement already satisfied: six>=1.5 in /usr/local/Cellar/jupyterlab/4.2.5_1/libexec/lib/python3.12/site-packages (from python-dateutil>=2.8.2->pandas->llama-index-readers-file<0.5.0,>=0.4.0->llama-index) (1.16.0)\n",
      "\n",
      "\u001b[1m[\u001b[0m\u001b[34;49mnotice\u001b[0m\u001b[1;39;49m]\u001b[0m\u001b[39;49m A new release of pip is available: \u001b[0m\u001b[31;49m24.2\u001b[0m\u001b[39;49m -> \u001b[0m\u001b[32;49m24.3.1\u001b[0m\n",
      "\u001b[1m[\u001b[0m\u001b[34;49mnotice\u001b[0m\u001b[1;39;49m]\u001b[0m\u001b[39;49m To update, run: \u001b[0m\u001b[32;49m/usr/local/Cellar/jupyterlab/4.2.5_1/libexec/bin/python -m pip install --upgrade pip\u001b[0m\n",
      "Note: you may need to restart the kernel to use updated packages.\n"
     ]
    }
   ],
   "source": [
    "pip install llama-index langchain pypdf langchain-community llama-index-llms-huggingface-api llama-index-embeddings-langchain"
   ]
  },
  {
   "cell_type": "code",
   "execution_count": 25,
   "metadata": {
    "colab": {
     "base_uri": "https://localhost:8080/"
    },
    "id": "-h5YSvICfL5P",
    "outputId": "79a55742-60cc-4de6-9169-f4ccca7958b9"
   },
   "outputs": [
    {
     "name": "stdin",
     "output_type": "stream",
     "text": [
      " ········\n"
     ]
    }
   ],
   "source": [
    "from getpass import getpass\n",
    "HF_TOKEN = getpass()"
   ]
  },
  {
   "cell_type": "code",
   "execution_count": 26,
   "metadata": {
    "id": "3Hi13ZrCm03b"
   },
   "outputs": [],
   "source": [
    "from llama_index.core import VectorStoreIndex, SimpleDirectoryReader, ServiceContext, StorageContext,load_index_from_storage\n",
    "from llama_index.core.settings import Settings\n",
    "from llama_index.core.node_parser import SimpleNodeParser\n",
    "from langchain.embeddings import HuggingFaceInferenceAPIEmbeddings\n",
    "from llama_index.embeddings.langchain import LangchainEmbedding\n",
    "from llama_index.llms.huggingface_api import HuggingFaceInferenceAPI\n",
    "from langchain.text_splitter import RecursiveCharacterTextSplitter\n",
    "import os"
   ]
  },
  {
   "cell_type": "code",
   "execution_count": 27,
   "metadata": {},
   "outputs": [],
   "source": [
    "lectures = []\n",
    "for filename in os.listdir('sources'):\n",
    "    filepath = os.path.join('sources', filename)\n",
    "    with open(filepath, \"r\", encoding=\"utf-8\") as f:\n",
    "        lectures.append(f.read())"
   ]
  },
  {
   "cell_type": "code",
   "execution_count": 28,
   "metadata": {},
   "outputs": [],
   "source": [
    "#chunk text\n",
    "chunks = []\n",
    "splitter = RecursiveCharacterTextSplitter(chunk_size=500, chunk_overlap=100)\n",
    "\n",
    "for lecture in lectures:\n",
    "    chunks.extend(splitter.split_text(lecture))"
   ]
  },
  {
   "cell_type": "code",
   "execution_count": 29,
   "metadata": {},
   "outputs": [
    {
     "data": {
      "text/plain": [
       "['\\\\begin{definition}\\n    Статистика $S(X)$ называется \\\\textit{полной} для $\\\\theta$, если из условия $E_\\\\theta f(S(X)) = 0\\\\ \\\\forall \\\\theta \\\\in \\\\Theta$ следует, что $f(S(X)) = 0\\\\ \\\\forall \\\\theta \\\\in \\\\Theta\\\\ P_\\\\theta-a.s.$\\n\\\\end{definition}\\n\\\\begin{theorem}',\n",
       " '\\\\end{definition}\\n\\\\begin{theorem}\\n    (Лемана-Шеффе, об оптимальной оценке) Пусть $\\\\displaystyle T( X)$ -- полная достаточная статистика для $\\\\displaystyle \\\\{P_{\\\\theta } ,\\\\ \\\\theta \\\\in \\\\Theta \\\\} ,\\\\ \\\\phi ( T( X))$ -- несмещенная оценка для $\\\\displaystyle \\\\tau ( \\\\theta )$. Тогда $\\\\displaystyle \\\\phi ( T( X))$ не хуже любой несмещенной оценки $\\\\displaystyle \\\\tau ( \\\\theta )$ в среднеквадратичном подходе, и если $\\\\displaystyle \\\\phi ( T) \\\\in L_{2}$, то $\\\\displaystyle \\\\phi ( T)$ -- оптимальная оценка.',\n",
       " '\\\\end{theorem}\\n\\\\begin{proof}',\n",
       " 'Пусть $\\\\displaystyle \\\\tilde{d}$ -- несмещенная оценка $\\\\displaystyle \\\\tau ( \\\\theta )$. Тогда $\\\\displaystyle \\\\tilde{\\\\phi }( T) =E\\\\left(\\\\tilde{d} \\\\ |\\\\ T\\\\right)$ не хуже $\\\\displaystyle \\\\tilde{d}$ и является несмещенной. Значит, $\\\\displaystyle E_{\\\\theta }\\\\left( \\\\phi ( T) -\\\\tilde{\\\\phi }( T)\\\\right) =0$. Возьмем $\\\\displaystyle h=\\\\phi -\\\\tilde{\\\\phi }$. Тогда $\\\\displaystyle \\\\forall \\\\theta \\\\ E_{\\\\theta } h( T) =0$. По определению полной статистики $\\\\displaystyle h( T) =0\\\\ P_{\\\\theta } -a.s.\\\\ \\\\forall',\n",
       " '} h( T) =0$. По определению полной статистики $\\\\displaystyle h( T) =0\\\\ P_{\\\\theta } -a.s.\\\\ \\\\forall \\\\theta $, \\\\ а следовательно, $\\\\displaystyle \\\\phi ( T) =\\\\tilde{\\\\phi }( T) \\\\ ( P_{\\\\theta } -a.s.)$.',\n",
       " 'Пусть теперь $\\\\displaystyle \\\\phi ( T) \\\\in L_{2}$. В силу следствия достаточно доказать, что $\\\\displaystyle \\\\phi ( T)$ -- единственная несмещенная $\\\\displaystyle T$-измеримая оценка.\\n    \\n    Пусть $\\\\displaystyle \\\\psi ( T)$ -- несмещенная $\\\\displaystyle T$-измеримая оценка. Тогда $\\\\displaystyle E_{\\\\theta }( \\\\psi ( T) -\\\\phi ( T)) =0\\\\Rightarrow \\\\psi ( T) =\\\\phi ( T)$.\\n\\\\end{proof}\\n\\\\begin{corollary}',\n",
       " '\\\\end{proof}\\n\\\\begin{corollary}\\n    Пусть $\\\\displaystyle T( X)$ -- полная достаточная статистика, $\\\\displaystyle d( X)$ -- несмещенная оценка для $\\\\displaystyle \\\\tau ( \\\\theta ) \\\\ ( d\\\\in L_{1})$. Тогда $\\\\displaystyle \\\\phi =E_{\\\\theta }( d\\\\ |\\\\ T)$ не хуже любой другой оценки в среднеквадратичном подходе. Если $\\\\displaystyle \\\\phi \\\\in L_{2}$, то $\\\\displaystyle \\\\phi $ -- оптимальна.\\n\\\\end{corollary}\\n\\\\begin{proof}',\n",
       " '\\\\end{corollary}\\n\\\\begin{proof}\\n    $\\\\displaystyle E_{\\\\theta }( d\\\\ |\\\\ T( X))$ -- несмещенная оценка и является функцией от $\\\\displaystyle T$.\\n\\\\end{proof}\\n\\\\begin{theorem}\\n    (об экспоненциальном семействе, б/д) Пусть $\\\\displaystyle X_{1} ,\\\\ \\\\dotsc ,\\\\ X_{n}$ -- выборка из экспоненциального семейства распределений. Если множество значений вектор-функции $\\\\displaystyle \\\\forall \\\\theta \\\\ \\\\overline{a}( \\\\theta ) =\\\\begin{pmatrix}\\n    a_{0}( \\\\theta ) & \\\\dotsc  & a_{k}( \\\\theta )',\n",
       " 'a_{0}( \\\\theta ) & \\\\dotsc  & a_{k}( \\\\theta )\\n    \\\\end{pmatrix}$ из определения экспоненциального семейства содержит $\\\\displaystyle k$-мерный параллелепипед в $\\\\displaystyle \\\\mathbb{R}^{k}$, то $\\\\displaystyle T( X) =\\\\begin{pmatrix}\\n    T_{1}( X) & \\\\dotsc  & T_{k}( X)\\n    \\\\end{pmatrix}$ -- полная достаточная статистика.\\n\\\\end{theorem}\\n\\\\begin{note}',\n",
       " '\\\\end{pmatrix}$ -- полная достаточная статистика.\\n\\\\end{theorem}\\n\\\\begin{note}\\n    Для того, чтобы вектор-функция $\\\\overline{a}(\\\\theta)$ содержала $k$-мерный параллелепипед, можно потребовать, чтобы $\\\\Theta$ содержало открытое множество, и чтобы $a_1(\\\\theta),\\\\, \\\\ldots,\\\\, a_k(\\\\theta)$ были гладкими.\\n\\\\end{note}']"
      ]
     },
     "execution_count": 29,
     "metadata": {},
     "output_type": "execute_result"
    }
   ],
   "source": [
    "chunks[:10]"
   ]
  },
  {
   "cell_type": "code",
   "execution_count": 30,
   "metadata": {},
   "outputs": [],
   "source": [
    "from llama_index.core.schema import TextNode\n",
    "\n",
    "nodes = []\n",
    "\n",
    "for chunk in chunks:\n",
    "    node = TextNode(text=chunk)\n",
    "    nodes.append(node)"
   ]
  },
  {
   "cell_type": "code",
   "execution_count": 31,
   "metadata": {},
   "outputs": [
    {
     "name": "stdout",
     "output_type": "stream",
     "text": [
      "rm: ./storage: No such file or directory\n"
     ]
    }
   ],
   "source": [
    "rm -r ./storage"
   ]
  },
  {
   "cell_type": "code",
   "execution_count": 32,
   "metadata": {
    "colab": {
     "base_uri": "https://localhost:8080/",
     "height": 376
    },
    "id": "MorKNRXopKDt",
    "outputId": "3473863a-a2af-42cd-b3aa-d32da3e4e5fe"
   },
   "outputs": [],
   "source": [
    "#create index\n",
    "Settings.llm = HuggingFaceInferenceAPI(\n",
    "    model_name=\"meta-llama/llama-3.2-1B\", token=HF_TOKEN\n",
    ")\n",
    "Settings.embed_model = LangchainEmbedding(\n",
    "    HuggingFaceInferenceAPIEmbeddings(api_key=HF_TOKEN,model_name=\"sentence-transformers/all-MiniLM-L6-v2\")\n",
    ")\n",
    "storage_context = StorageContext.from_defaults()\n",
    "index = VectorStoreIndex(\n",
    "    nodes,\n",
    "    storage_context=storage_context,\n",
    ")\n",
    "index.storage_context.persist(persist_dir=\"./storage\")"
   ]
  },
  {
   "cell_type": "code",
   "execution_count": 54,
   "metadata": {
    "id": "LsgyUw8FnucW"
   },
   "outputs": [],
   "source": [
    "from llama_index.core import get_response_synthesizer\n",
    "from llama_index.core.query_engine import RetrieverQueryEngine\n",
    "from llama_index.core.retrievers import VectorIndexRetriever\n",
    "\n",
    "response_synthesizer = get_response_synthesizer(response_mode=\"compact\")\n",
    "vector_retriever = VectorIndexRetriever(index=index, similarity_top_k=3)"
   ]
  },
  {
   "cell_type": "code",
   "execution_count": 58,
   "metadata": {},
   "outputs": [],
   "source": [
    "nodes = vector_retriever.retrieve(\"квантиль\")"
   ]
  },
  {
   "cell_type": "code",
   "execution_count": 59,
   "metadata": {},
   "outputs": [
    {
     "data": {
      "text/plain": [
       "'(Будет позже)\\n\\\\subsection{Метод выборочных квантилей}'"
      ]
     },
     "execution_count": 59,
     "metadata": {},
     "output_type": "execute_result"
    }
   ],
   "source": [
    "nodes[0].text"
   ]
  },
  {
   "cell_type": "code",
   "execution_count": 60,
   "metadata": {},
   "outputs": [
    {
     "data": {
      "text/plain": [
       "'статистика. Пусть $\\\\displaystyle u_{p}$ -- $\\\\displaystyle p$-квантиль стандартного нормального распределения. Тогда'"
      ]
     },
     "execution_count": 60,
     "metadata": {},
     "output_type": "execute_result"
    }
   ],
   "source": [
    "nodes[1].text"
   ]
  },
  {
   "cell_type": "code",
   "execution_count": 38,
   "metadata": {
    "id": "N7nSgKkhrW8W"
   },
   "outputs": [],
   "source": [
    "vector_query_engine = RetrieverQueryEngine(\n",
    "    retriever=vector_retriever,\n",
    "    response_synthesizer=response_synthesizer,\n",
    ")"
   ]
  },
  {
   "cell_type": "code",
   "execution_count": 43,
   "metadata": {
    "colab": {
     "base_uri": "https://localhost:8080/",
     "height": 181
    },
    "id": "Py1S0ukkr2no",
    "outputId": "aceca81d-19d1-43ec-a7d7-190208b3e04b"
   },
   "outputs": [
    {
     "name": "stdout",
     "output_type": "stream",
     "text": [
      " Квантиль -- это значение, которое делит распределение вероятностей на части с равными вероятностями. Например, $\\displaystyle u_{p}$ -- это $\\displaystyle p$-квантиль стандартного нормального распределения, что означает, что $\\displaystyle P(X \\leq u_{p}) = p$, где $\\displaystyle X$ -- случайная величина, имеющая стандартное нормальное распределение. Таким образом, квантиль $\\displaystyle u_{p}$ -- это значение, ниже которого лежит $\\displaystyle p$-я доля распределения. Например, медиана (0.5-квантиль) стандартного нормального распределения равна 0, так как 50% значений лежат ниже 0. \n",
      "\n",
      "Если у вас есть дополнительные вопросы или нужна более подробная информация, дайте знать! 😊\n",
      "--------------------- To provide a more precise and concise answer based on the given context:\n",
      "\n",
      "**Квантиль** -- это значение, которое делит распределение вероятностей на части с равными вероятностями. Например, \\( u_p\n"
     ]
    }
   ],
   "source": [
    "print(vector_query_engine.query(\"Что такое квантиль?\"))"
   ]
  }
 ],
 "metadata": {
  "accelerator": "GPU",
  "colab": {
   "gpuType": "T4",
   "provenance": []
  },
  "kernelspec": {
   "display_name": "Python 3 (ipykernel)",
   "language": "python",
   "name": "python3"
  },
  "language_info": {
   "codemirror_mode": {
    "name": "ipython",
    "version": 3
   },
   "file_extension": ".py",
   "mimetype": "text/x-python",
   "name": "python",
   "nbconvert_exporter": "python",
   "pygments_lexer": "ipython3",
   "version": "3.12.7"
  }
 },
 "nbformat": 4,
 "nbformat_minor": 4
}
